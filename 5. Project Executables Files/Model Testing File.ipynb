{
  "nbformat": 4,
  "nbformat_minor": 0,
  "metadata": {
    "colab": {
      "provenance": []
    },
    "kernelspec": {
      "name": "python3",
      "display_name": "Python 3"
    },
    "language_info": {
      "name": "python"
    }
  },
  "cells": [
    {
      "cell_type": "code",
      "execution_count": 9,
      "metadata": {
        "colab": {
          "base_uri": "https://localhost:8080/"
        },
        "id": "9HJUXXal3QLv",
        "outputId": "1db55ee8-f643-48be-9c30-96ec3747702d"
      },
      "outputs": [
        {
          "output_type": "stream",
          "name": "stdout",
          "text": [
            "Requirement already satisfied: opendatasets in /usr/local/lib/python3.10/dist-packages (0.1.22)\n",
            "Requirement already satisfied: tqdm in /usr/local/lib/python3.10/dist-packages (from opendatasets) (4.66.4)\n",
            "Requirement already satisfied: kaggle in /usr/local/lib/python3.10/dist-packages (from opendatasets) (1.6.14)\n",
            "Requirement already satisfied: click in /usr/local/lib/python3.10/dist-packages (from opendatasets) (8.1.7)\n",
            "Requirement already satisfied: six>=1.10 in /usr/local/lib/python3.10/dist-packages (from kaggle->opendatasets) (1.16.0)\n",
            "Requirement already satisfied: certifi>=2023.7.22 in /usr/local/lib/python3.10/dist-packages (from kaggle->opendatasets) (2024.7.4)\n",
            "Requirement already satisfied: python-dateutil in /usr/local/lib/python3.10/dist-packages (from kaggle->opendatasets) (2.8.2)\n",
            "Requirement already satisfied: requests in /usr/local/lib/python3.10/dist-packages (from kaggle->opendatasets) (2.31.0)\n",
            "Requirement already satisfied: python-slugify in /usr/local/lib/python3.10/dist-packages (from kaggle->opendatasets) (8.0.4)\n",
            "Requirement already satisfied: urllib3 in /usr/local/lib/python3.10/dist-packages (from kaggle->opendatasets) (2.0.7)\n",
            "Requirement already satisfied: bleach in /usr/local/lib/python3.10/dist-packages (from kaggle->opendatasets) (6.1.0)\n",
            "Requirement already satisfied: webencodings in /usr/local/lib/python3.10/dist-packages (from bleach->kaggle->opendatasets) (0.5.1)\n",
            "Requirement already satisfied: text-unidecode>=1.3 in /usr/local/lib/python3.10/dist-packages (from python-slugify->kaggle->opendatasets) (1.3)\n",
            "Requirement already satisfied: charset-normalizer<4,>=2 in /usr/local/lib/python3.10/dist-packages (from requests->kaggle->opendatasets) (3.3.2)\n",
            "Requirement already satisfied: idna<4,>=2.5 in /usr/local/lib/python3.10/dist-packages (from requests->kaggle->opendatasets) (3.7)\n"
          ]
        }
      ],
      "source": [
        "!pip install opendatasets"
      ]
    },
    {
      "cell_type": "code",
      "source": [
        "import pickle\n",
        "import opendatasets as od\n",
        "import pandas as pd\n",
        "from sklearn.inspection import permutation_importance\n",
        "from sklearn.preprocessing import LabelEncoder\n",
        "from sklearn.metrics import confusion_matrix,classification_report\n",
        "from matplotlib import pyplot\n"
      ],
      "metadata": {
        "id": "0EZuWndZRkPF"
      },
      "execution_count": 71,
      "outputs": []
    },
    {
      "cell_type": "code",
      "source": [
        "od.download(\"https://www.kaggle.com/datasets/muhammadshahidazeem/panic-disorder-detection-dataset\")"
      ],
      "metadata": {
        "colab": {
          "base_uri": "https://localhost:8080/"
        },
        "id": "Cwuir-idRwMc",
        "outputId": "8f4eb2a7-048f-4bb7-9c15-ba28250e5e63"
      },
      "execution_count": 13,
      "outputs": [
        {
          "output_type": "stream",
          "name": "stdout",
          "text": [
            "Please provide your Kaggle credentials to download this dataset. Learn more: http://bit.ly/kaggle-creds\n",
            "Your Kaggle username: arvasugupta\n",
            "Your Kaggle Key: ··········\n",
            "Dataset URL: https://www.kaggle.com/datasets/muhammadshahidazeem/panic-disorder-detection-dataset\n",
            "Downloading panic-disorder-detection-dataset.zip to ./panic-disorder-detection-dataset\n"
          ]
        },
        {
          "output_type": "stream",
          "name": "stderr",
          "text": [
            "100%|██████████| 1.50M/1.50M [00:00<00:00, 78.5MB/s]"
          ]
        },
        {
          "output_type": "stream",
          "name": "stdout",
          "text": [
            "\n"
          ]
        },
        {
          "output_type": "stream",
          "name": "stderr",
          "text": [
            "\n"
          ]
        }
      ]
    },
    {
      "cell_type": "code",
      "source": [
        "input_test = ('./panic-disorder-detection-dataset/panic_disorder_dataset_testing.csv')\n",
        "input_train = ('./panic-disorder-detection-dataset/panic_disorder_dataset_training.csv')\n",
        "test = pd.read_csv(input_test)\n",
        "train = pd.read_csv(input_train)"
      ],
      "metadata": {
        "id": "TR2VkKv3SMaE"
      },
      "execution_count": 38,
      "outputs": []
    },
    {
      "cell_type": "code",
      "source": [
        "model = pickle.load(open('model.pkl', 'rb'))\n",
        "\n",
        "\n",
        "print(\"Number of features for training \",model.n_features_in_)\n",
        "print(\"Name of \",model.feature_names_in_)\n",
        "relevant_cols_resampled = [\"Lifestyle Factors\",\"Current Stressors\",\"Impact on Life\",\"Symptoms\",\"Severity\",\"Personal History\",\"Family History\",\"Age\",\"Medical History\",\"Coping Mechanisms\",\"Panic Disorder Diagnosis\"]\n",
        "train = train.loc[:,relevant_cols_resampled]\n",
        "test = test.loc[:,relevant_cols_resampled]\n",
        "\n",
        "train.fillna(\"Others\",inplace=True,axis = 1)\n",
        "test.fillna(\"Others\",inplace=True,axis = 1)\n",
        "train[\"Medical History\"] = train[\"Medical History\"].replace({'Diabetes':0,'Asthma':1,'Heart disease':2,'Others':3}).astype('int64')\n",
        "\n",
        "test[\"Medical History\"] = test[\"Medical History\"].replace({'Diabetes':0,'Asthma':1,'Heart disease':2,'Others':3}).astype('int64')\n",
        "\n",
        "label_encoder = LabelEncoder()\n",
        "# Iterate over each column in the dataset\n",
        "for column in train.drop(labels = [\"Medical History\",\"Panic Disorder Diagnosis\"],axis=1).columns:\n",
        "    # Check if the column contains string values\n",
        "    if train[column].dtype == \"object\":\n",
        "        # Fit label encoder on the column\n",
        "        label_encoder.fit(train[column])\n",
        "        # Transform the string values to integers\n",
        "        train[column] = label_encoder.transform(train[column])\n",
        "for column in test.drop(labels = [\"Medical History\",\"Panic Disorder Diagnosis\"],axis=1).columns:\n",
        "    # Check if the column contains string values\n",
        "    if test[column].dtype == \"object\":\n",
        "        # Fit label encoder on the column\n",
        "        label_encoder.fit(test[column])\n",
        "        # Transform the string values to integers\n",
        "        test[column] = label_encoder.transform(test[column])\n",
        "\n",
        "train['Panic Disorder Diagnosis'] = train['Panic Disorder Diagnosis'].astype('int64')\n",
        "test['Panic Disorder Diagnosis'] = test['Panic Disorder Diagnosis'].astype('int64')"
      ],
      "metadata": {
        "colab": {
          "base_uri": "https://localhost:8080/"
        },
        "id": "pA3fFAobP8b5",
        "outputId": "f6cade91-f469-4eea-a574-fb0e2468c375"
      },
      "execution_count": 40,
      "outputs": [
        {
          "output_type": "stream",
          "name": "stdout",
          "text": [
            "Number of features for training  10\n",
            "Name of  ['Lifestyle Factors' 'Current Stressors' 'Impact on Life' 'Symptoms'\n",
            " 'Severity' 'Personal History' 'Family History' 'Age' 'Medical History'\n",
            " 'Coping Mechanisms']\n"
          ]
        }
      ]
    },
    {
      "cell_type": "code",
      "source": [
        "results = permutation_importance(model, train.drop(labels = [\"Panic Disorder Diagnosis\"],axis=1), train[\"Panic Disorder Diagnosis\"], scoring='neg_mean_squared_error')\n",
        "# get importance\n",
        "importance = results.importances_mean\n",
        "# summarize feature importance\n",
        "for i,v in enumerate(importance):\n",
        "  print('Feature: %0d, Score: %.5f' % (i,v))\n",
        "# plot feature importance\n",
        "pyplot.bar([x for x in range(len(importance))], importance)\n",
        "pyplot.show()"
      ],
      "metadata": {
        "colab": {
          "base_uri": "https://localhost:8080/",
          "height": 604
        },
        "id": "_h7UIU4xUR2m",
        "outputId": "2e0f8e30-b695-415c-eec8-416c5204eeb4"
      },
      "execution_count": 48,
      "outputs": [
        {
          "output_type": "stream",
          "name": "stdout",
          "text": [
            "Feature: 0, Score: 0.03280\n",
            "Feature: 1, Score: 0.01687\n",
            "Feature: 2, Score: 0.01221\n",
            "Feature: 3, Score: 0.01098\n",
            "Feature: 4, Score: 0.01162\n",
            "Feature: 5, Score: 0.00538\n",
            "Feature: 6, Score: 0.00372\n",
            "Feature: 7, Score: 0.00565\n",
            "Feature: 8, Score: 0.00377\n",
            "Feature: 9, Score: 0.00667\n"
          ]
        },
        {
          "output_type": "display_data",
          "data": {
            "text/plain": [
              "<Figure size 640x480 with 1 Axes>"
            ],
            "image/png": "[encoded data removed]"
          },
          "metadata": {}
        }
      ]
    },
    {
      "cell_type": "code",
      "source": [
        "df = test.sample(5)\n",
        "print(\"Making predictions for the following 5 People:\")\n",
        "print(df)\n",
        "print(\"The predictions are\")\n",
        "print(model.predict(df.drop(labels = ['Panic Disorder Diagnosis'],axis = 1)))\n"
      ],
      "metadata": {
        "colab": {
          "base_uri": "https://localhost:8080/"
        },
        "id": "Intl4bMIfqsT",
        "outputId": "5a396e59-3a7c-4ac7-ffef-11617bd4ed21"
      },
      "execution_count": 69,
      "outputs": [
        {
          "output_type": "stream",
          "name": "stdout",
          "text": [
            "Making predictions for the following 5 People:\n",
            "       Lifestyle Factors  Current Stressors  Impact on Life  Symptoms  \\\n",
            "19304                  1                  0               1         2   \n",
            "13597                  2                  1               1         0   \n",
            "2356                   2                  0               2         4   \n",
            "16054                  0                  0               0         0   \n",
            "15192                  0                  1               2         2   \n",
            "\n",
            "       Severity  Personal History  Family History  Age  Medical History  \\\n",
            "19304         0                 1               0   47                2   \n",
            "13597         2                 0               0   21                0   \n",
            "2356          0                 1               0   46                1   \n",
            "16054         0                 1               0   26                1   \n",
            "15192         2                 1               1   31                1   \n",
            "\n",
            "       Coping Mechanisms  Panic Disorder Diagnosis  \n",
            "19304                  1                         0  \n",
            "13597                  3                         0  \n",
            "2356                   3                         1  \n",
            "16054                  3                         0  \n",
            "15192                  1                         0  \n",
            "The predictions are\n",
            "[0 0 1 0 0]\n"
          ]
        }
      ]
    },
    {
      "cell_type": "code",
      "source": [
        "Y_pred=model.predict(test.drop(labels = ['Panic Disorder Diagnosis'],axis = 1))\n",
        "Y_test=test['Panic Disorder Diagnosis']\n",
        "\n",
        "\n",
        "print(classification_report(Y_test,Y_pred))\n",
        "print(confusion_matrix(Y_test,Y_pred))\n",
        "\n",
        "cm = confusion_matrix(Y_test, Y_pred)\n",
        "TP = cm[0,0]\n",
        "TN = cm[1,1]\n",
        "FP = cm[0,1]\n",
        "FN = cm[1,0]\n",
        "classification_accuracy = (TP + TN) / float(TP + TN + FP + FN)\n",
        "print('Classification accuracy : {0:0.4f}'.format(classification_accuracy))\n",
        "precision = TP / float(TP + FP)\n",
        "print('Precision : {0:0.4f}'.format(precision))\n",
        "recall = TP / float(TP + FN)\n",
        "print('Recall or Sensitivity : {0:0.4f}'.format(recall))\n",
        "true_positive_rate = TP / float(TP + FN)\n",
        "print('True Positive Rate : {0:0.4f}'.format(true_positive_rate))\n",
        "false_positive_rate = FP / float(FP + TN)\n",
        "print('False Positive Rate : {0:0.4f}'.format(false_positive_rate))"
      ],
      "metadata": {
        "colab": {
          "base_uri": "https://localhost:8080/"
        },
        "id": "E3qsZhXsoeC4",
        "outputId": "cdda1e92-91d4-4750-ccd3-1ba50c0b0132"
      },
      "execution_count": 74,
      "outputs": [
        {
          "output_type": "stream",
          "name": "stdout",
          "text": [
            "              precision    recall  f1-score   support\n",
            "\n",
            "           0       0.98      0.98      0.98     19159\n",
            "           1       0.57      0.54      0.56       841\n",
            "\n",
            "    accuracy                           0.96     20000\n",
            "   macro avg       0.77      0.76      0.77     20000\n",
            "weighted avg       0.96      0.96      0.96     20000\n",
            "\n",
            "[[18813   346]\n",
            " [  383   458]]\n",
            "Classification accuracy : 0.9636\n",
            "Precision : 0.9819\n",
            "Recall or Sensitivity : 0.9800\n",
            "True Positive Rate : 0.9800\n",
            "False Positive Rate : 0.4303\n"
          ]
        }
      ]
    }
  ]
}